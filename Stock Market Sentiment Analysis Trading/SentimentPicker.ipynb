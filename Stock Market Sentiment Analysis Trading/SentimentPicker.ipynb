{
 "cells": [
  {
   "cell_type": "markdown",
   "metadata": {},
   "source": [
    "Import libraries"
   ]
  },
  {
   "cell_type": "code",
   "execution_count": 213,
   "metadata": {},
   "outputs": [],
   "source": [
    "import pandas as pd\n",
    "import numpy as np\n",
    "import talib\n",
    "import backtrader as bt\n",
    "import yfinance as yf\n",
    "import matplotlib.pyplot as plt"
   ]
  },
  {
   "cell_type": "markdown",
   "metadata": {},
   "source": [
    "Fetch Historical data for the AAPL stock"
   ]
  },
  {
   "cell_type": "code",
   "execution_count": 214,
   "metadata": {},
   "outputs": [
    {
     "name": "stderr",
     "output_type": "stream",
     "text": [
      "[*********************100%***********************]  1 of 1 completed"
     ]
    },
    {
     "name": "stdout",
     "output_type": "stream",
     "text": [
      "Price        Date       Close        High         Low        Open    Volume\n",
      "Ticker                   META        META        META        META      META\n",
      "0      2020-01-02  208.981705  208.991661  205.485067  205.963236  12077100\n",
      "1      2020-01-03  207.875916  209.599328  206.162460  206.421480  11188400\n",
      "2      2020-01-06  211.790985  211.970293  205.734120  205.913428  17058900\n",
      "3      2020-01-07  212.249222  213.763442  210.944209  212.010145  14912400\n",
      "4      2020-01-08  214.401001  215.417124  211.800932  212.189448  13475000\n"
     ]
    },
    {
     "name": "stderr",
     "output_type": "stream",
     "text": [
      "\n"
     ]
    }
   ],
   "source": [
    "# Fetch data for a specific stock\n",
    "ticker = \"META\"\n",
    "stock_data = yf.download(ticker, start=\"2020-01-01\", end=\"2025-01-01\")\n",
    "stock_data.reset_index(inplace=True)\n",
    "\n",
    "# Inspect the data\n",
    "print(stock_data.head())"
   ]
  },
  {
   "cell_type": "markdown",
   "metadata": {},
   "source": [
    "Get RSI"
   ]
  },
  {
   "cell_type": "code",
   "execution_count": 215,
   "metadata": {},
   "outputs": [
    {
     "name": "stdout",
     "output_type": "stream",
     "text": [
      "71.56429506638477\n",
      "0       71.564295\n",
      "1       71.564295\n",
      "2       71.564295\n",
      "3       71.564295\n",
      "4       71.564295\n",
      "          ...    \n",
      "1253    54.160476\n",
      "1254    52.117263\n",
      "1255    50.467678\n",
      "1256    46.620558\n",
      "1257    44.194785\n",
      "Name: RSI, Length: 1258, dtype: object\n"
     ]
    },
    {
     "name": "stderr",
     "output_type": "stream",
     "text": [
      "/var/folders/hv/2vlnl85n369fmvwhjtsktpsh0000gn/T/ipykernel_10063/3407466581.py:2: FutureWarning: DataFrame.fillna with 'method' is deprecated and will raise in a future version. Use obj.ffill() or obj.bfill() instead.\n",
      "  stock_data['Close'] = stock_data['Close'].fillna(method='ffill')  # Forward-fill missing values\n",
      "/var/folders/hv/2vlnl85n369fmvwhjtsktpsh0000gn/T/ipykernel_10063/3407466581.py:3: FutureWarning: DataFrame.fillna with 'method' is deprecated and will raise in a future version. Use obj.ffill() or obj.bfill() instead.\n",
      "  stock_data['Close'] = stock_data['Close'].fillna(method='bfill')  # Backward-fill if forward-fill is insufficient\n",
      "/var/folders/hv/2vlnl85n369fmvwhjtsktpsh0000gn/T/ipykernel_10063/3407466581.py:10: FutureWarning: Setting an item of incompatible dtype is deprecated and will raise an error in a future version of pandas. Value '[nan nan nan nan nan nan nan nan nan nan nan nan nan nan]' has dtype incompatible with float64, please explicitly cast to a compatible dtype first.\n",
      "  stock_data.loc[:13, 'RSI'] = first_valid_rsi  # Fill the first 14 rows with this value\n"
     ]
    }
   ],
   "source": [
    "# Fill missing values in the 'Close' column first\n",
    "stock_data['Close'] = stock_data['Close'].fillna(method='ffill')  # Forward-fill missing values\n",
    "stock_data['Close'] = stock_data['Close'].fillna(method='bfill')  # Backward-fill if forward-fill is insufficient\n",
    "\n",
    "# Calculate RSI after filling 'Close'\n",
    "stock_data['RSI'] = talib.RSI(stock_data['Close'].values.flatten(), timeperiod=14)\n",
    "\n",
    "# Fill the first 14 rows of RSI with the 15th row value\n",
    "first_valid_rsi = stock_data.loc[14, 'RSI']  # Get the RSI value from the 15th row\n",
    "stock_data.loc[:13, 'RSI'] = first_valid_rsi  # Fill the first 14 rows with this value\n",
    "\n",
    "# Print the RSI column to verify\n",
    "print(stock_data['RSI'].iloc[14])\n",
    "stock_data.loc[:13, 'RSI'] = stock_data['RSI'].iloc[14]\n",
    "\n",
    "print(stock_data['RSI'])"
   ]
  },
  {
   "cell_type": "markdown",
   "metadata": {},
   "source": [
    "Get SMA"
   ]
  },
  {
   "cell_type": "code",
   "execution_count": 216,
   "metadata": {},
   "outputs": [
    {
     "name": "stdout",
     "output_type": "stream",
     "text": [
      "0              NaN\n",
      "1              NaN\n",
      "2              NaN\n",
      "3              NaN\n",
      "4              NaN\n",
      "           ...    \n",
      "1253    586.118053\n",
      "1254    586.469103\n",
      "1255    586.938801\n",
      "1256    587.234301\n",
      "1257    587.424393\n",
      "Name: SMA50, Length: 1258, dtype: float64\n",
      "(1258,)\n",
      "0              NaN\n",
      "1              NaN\n",
      "2              NaN\n",
      "3              NaN\n",
      "4              NaN\n",
      "           ...    \n",
      "1253    605.483176\n",
      "1254    606.996790\n",
      "1255    608.550226\n",
      "1256    609.419370\n",
      "1257    609.077258\n",
      "Name: SMA20, Length: 1258, dtype: float64\n",
      "(1258,)\n"
     ]
    }
   ],
   "source": [
    "stock_data['SMA50'] = talib.SMA(stock_data['Close'].values.flatten(), timeperiod=50)\n",
    "stock_data['SMA20'] = talib.SMA(stock_data['Close'].values.flatten(), timeperiod=20)\n",
    "\n",
    "print(stock_data['SMA50'])\n",
    "print(stock_data['SMA50'].shape)\n",
    "\n",
    "print(stock_data['SMA20'])\n",
    "print(stock_data['SMA20'].shape)"
   ]
  },
  {
   "cell_type": "markdown",
   "metadata": {},
   "source": [
    "Find the Bollinger Band (BB Indicator)"
   ]
  },
  {
   "cell_type": "code",
   "execution_count": 217,
   "metadata": {},
   "outputs": [
    {
     "name": "stdout",
     "output_type": "stream",
     "text": [
      "0       225.472971\n",
      "1       225.472971\n",
      "2       225.472971\n",
      "3       225.472971\n",
      "4       225.472971\n",
      "           ...    \n",
      "1253    642.756394\n",
      "1254    641.216898\n",
      "1255    638.198096\n",
      "1256    635.785656\n",
      "1257    636.477750\n",
      "Name: UpperBB, Length: 1258, dtype: float64\n",
      "0       207.632595\n",
      "1       207.632595\n",
      "2       207.632595\n",
      "3       207.632595\n",
      "4       207.632595\n",
      "           ...    \n",
      "1253    568.209957\n",
      "1254    572.776682\n",
      "1255    578.902356\n",
      "1256    583.053083\n",
      "1257    581.676766\n",
      "Name: LowerBB, Length: 1258, dtype: float64\n",
      "0       216.552783\n",
      "1       216.552783\n",
      "2       216.552783\n",
      "3       216.552783\n",
      "4       216.552783\n",
      "           ...    \n",
      "1253    605.483176\n",
      "1254    606.996790\n",
      "1255    608.550226\n",
      "1256    609.419370\n",
      "1257    609.077258\n",
      "Name: MiddleBB, Length: 1258, dtype: float64\n"
     ]
    }
   ],
   "source": [
    "stock_data['UpperBB'], stock_data['MiddleBB'], stock_data['LowerBB'] = talib.BBANDS(\n",
    "    stock_data['Close'].values.flatten(), timeperiod=20\n",
    ")\n",
    "\n",
    "\n",
    "# Ensure there are no NaN for UpperBB\n",
    "stock_data.loc[0:20, 'UpperBB'] = stock_data['UpperBB'].iloc[19]\n",
    "print(stock_data['UpperBB'])\n",
    "\n",
    "\n",
    "# Ensure there are no NanN for LowerBB\n",
    "stock_data.loc[0:20, 'LowerBB'] = stock_data['LowerBB'].iloc[19]\n",
    "print(stock_data['LowerBB'])\n",
    "\n",
    "\n",
    "# Ensure there are no NanN for MiddleBB\n",
    "stock_data.loc[0:20, 'MiddleBB'] = stock_data['MiddleBB'].iloc[19]\n",
    "print(stock_data['MiddleBB'])\n",
    "\n"
   ]
  },
  {
   "cell_type": "markdown",
   "metadata": {},
   "source": [
    "Create a trading strategy with BB, SMA, and RSI and create buy or sell signals."
   ]
  },
  {
   "cell_type": "code",
   "execution_count": 218,
   "metadata": {},
   "outputs": [
    {
     "name": "stdout",
     "output_type": "stream",
     "text": [
      "<class 'pandas.core.frame.DataFrame'>\n",
      "RangeIndex: 1258 entries, 0 to 1257\n",
      "Data columns (total 4 columns):\n",
      " #   Column         Non-Null Count  Dtype  \n",
      "---  ------         --------------  -----  \n",
      " 0   (RSI, )        1258 non-null   object \n",
      " 1   (Close, META)  1258 non-null   float64\n",
      " 2   (LowerBB, )    1258 non-null   float64\n",
      " 3   (UpperBB, )    1258 non-null   float64\n",
      "dtypes: float64(3), object(1)\n",
      "memory usage: 39.4+ KB\n",
      "None\n",
      "MultiIndex([(    'Date',     ''),\n",
      "            (   'Close', 'META'),\n",
      "            (    'High', 'META'),\n",
      "            (     'Low', 'META'),\n",
      "            (    'Open', 'META'),\n",
      "            (  'Volume', 'META'),\n",
      "            (     'RSI',     ''),\n",
      "            (   'SMA50',     ''),\n",
      "            (   'SMA20',     ''),\n",
      "            ( 'UpperBB',     ''),\n",
      "            ('MiddleBB',     ''),\n",
      "            ( 'LowerBB',     '')],\n",
      "           names=['Price', 'Ticker'])\n"
     ]
    }
   ],
   "source": [
    "print(stock_data[['RSI', 'Close', 'LowerBB', 'UpperBB']].info())\n",
    "print(stock_data.columns)\n"
   ]
  },
  {
   "cell_type": "code",
   "execution_count": 219,
   "metadata": {},
   "outputs": [
    {
     "name": "stdout",
     "output_type": "stream",
     "text": [
      "Index(['Date_', 'Close_META', 'High_META', 'Low_META', 'Open_META',\n",
      "       'Volume_META', 'RSI_', 'SMA50_', 'SMA20_', 'UpperBB_', 'MiddleBB_',\n",
      "       'LowerBB_'],\n",
      "      dtype='object')\n",
      "          Date_  Close_META       RSI_  Signal\n",
      "0    2020-01-02  208.981705  71.564295       0\n",
      "1    2020-01-03  207.875916  71.564295       0\n",
      "2    2020-01-06  211.790985  71.564295       0\n",
      "3    2020-01-07  212.249222  71.564295       0\n",
      "4    2020-01-08  214.401001  71.564295       0\n",
      "...         ...         ...        ...     ...\n",
      "1253 2024-12-24  607.750000  54.160476       0\n",
      "1254 2024-12-26  603.349976  52.117263       0\n",
      "1255 2024-12-27  599.809998  50.467678       0\n",
      "1256 2024-12-30  591.239990  46.620558       0\n",
      "1257 2024-12-31  585.510010  44.194785       0\n",
      "\n",
      "[1258 rows x 4 columns]\n",
      "          Date_  Close_META   High_META    Low_META   Open_META  Volume_META  \\\n",
      "38   2020-02-27  189.027924  195.134601  188.778875  191.090054     21682600   \n",
      "45   2020-03-09  168.854980  174.334051  164.561384  168.954606     29949000   \n",
      "48   2020-03-12  153.882187  165.966033  153.752677  158.932886     43266300   \n",
      "50   2020-03-16  145.454376  158.524460  142.555461  151.740377     39120400   \n",
      "96   2020-05-20  229.094864  230.459646  222.340666  222.649484     50162900   \n",
      "97   2020-05-21  230.509476  236.297364  230.320196  233.826806     47782600   \n",
      "98   2020-05-22  234.016083  235.091975  227.869564  230.629012     33925600   \n",
      "151  2020-08-07  267.418457  277.828702  262.427513  263.075033     72766400   \n",
      "164  2020-08-26  302.753510  303.510627  282.919271  282.919271     69015200   \n",
      "165  2020-08-27  292.104187  300.083716  290.908741  299.017780     30301300   \n",
      "261  2021-01-14  244.705246  254.059513  243.679167  252.435711     29739400   \n",
      "333  2021-04-29  328.256073  330.547308  320.386112  328.863737     56526800   \n",
      "374  2021-06-28  354.286652  356.777138  340.469407  341.156784     29156100   \n",
      "393  2021-07-26  371.042633  373.015109  366.818778  368.173588     14925200   \n",
      "434  2021-09-22  341.903900  348.508674  339.393501  345.908621     43692900   \n",
      "527  2022-02-03  236.855209  247.056247  234.852864  243.718989    188119900   \n",
      "528  2022-02-04  236.187775  241.686773  229.234341  234.075847     89342200   \n",
      "529  2022-02-07  224.054138  237.393184  223.157554  236.795461     88613800   \n",
      "530  2022-02-08  219.342117  224.910857  215.327454  220.009581     94729700   \n",
      "548  2022-03-07  186.756592  200.125521  186.567312  200.025895     38560600   \n",
      "584  2022-04-27  174.284241  180.520429  168.356886  173.766215     71062900   \n",
      "711  2022-10-27   97.567299  102.109944   96.013230   97.607148    232316600   \n",
      "712  2022-10-28   98.822502  100.466225   97.138938   99.201061     95928300   \n",
      "713  2022-10-31   92.805496   98.942051   92.247622   97.846239    121361400   \n",
      "714  2022-11-01   94.837723   97.119009   93.194008   93.971038    110189600   \n",
      "763  2023-01-12  136.189774  137.156068  131.258598  132.932213     30757700   \n",
      "773  2023-01-27  151.162582  152.607062  146.829130  147.675901     35771900   \n",
      "777  2023-02-02  188.051666  196.409739  179.474430  182.682178    150475700   \n",
      "778  2023-02-03  185.820175  196.021213  182.194027  182.771822     76809700   \n",
      "779  2023-02-06  185.351974  189.974317  184.814036  185.820187     42483800   \n",
      "780  2023-02-07  190.890793  193.042577  183.698267  184.873785     47080700   \n",
      "804  2023-03-14  193.281677  193.580539  185.850059  186.866182     41642600   \n",
      "805  2023-03-15  196.997482  197.027367  190.113774  192.215745     42123600   \n",
      "806  2023-03-16  204.150146  204.976990  195.343790  197.505531     50447100   \n",
      "835  2023-04-27  237.652176  240.770270  235.868994  238.977117     71196500   \n",
      "836  2023-04-28  239.405472  239.515039  234.852856  238.100444     39554000   \n",
      "837  2023-05-01  242.254593  243.071480  235.560179  237.711948     29143900   \n",
      "855  2023-05-25  251.728424  254.647267  248.221815  252.435714     22371400   \n",
      "856  2023-05-26  261.042816  261.311778  251.748320  251.967468     25727200   \n",
      "857  2023-05-30  261.520996  267.627674  260.295696  264.240618     23816500   \n",
      "858  2023-05-31  263.712616  263.991549  257.466487  259.010577     25473700   \n",
      "859  2023-06-01  271.572601  272.957326  264.878203  264.888144     25609500   \n",
      "886  2023-07-12  308.162811  308.272408  298.957984  300.601698     36677100   \n",
      "887  2023-07-13  312.217346  315.036563  309.109224  312.426539     30281000   \n",
      "1012 2024-01-10  369.060211  371.520813  357.713540  358.799419     22117200   \n",
      "1014 2024-01-12  373.064941  375.625169  368.133796  368.751432     19295700   \n",
      "1018 2024-01-19  381.990845  382.897355  376.531687  377.557766     21470100   \n",
      "1028 2024-02-02  473.182434  484.110689  451.286098  457.851016     84615500   \n",
      "1029 2024-02-05  457.661743  470.104203  457.472464  468.091901     40832400   \n",
      "1031 2024-02-07  467.803009  469.725657  454.444036  456.257118     23066000   \n",
      "1047 2024-03-01  500.919464  502.864117  490.498203  490.757468     16273600   \n",
      "1051 2024-03-07  510.782288  518.421208  500.002000  501.896772     18586400   \n",
      "1087 2024-04-29  431.430969  438.551360  427.382130  438.351898     21502600   \n",
      "1088 2024-04-30  428.987732  438.411741  428.538957  429.865288     18429500   \n",
      "1133 2024-07-05  538.960632  539.918966  510.700444  510.700444     21354100   \n",
      "1186 2024-09-19  558.649353  561.616991  546.079536  549.556712     15647000   \n",
      "1187 2024-09-20  560.897522  564.045007  555.851605  559.548634     22066800   \n",
      "1188 2024-09-23  563.955078  573.517372  561.956690  569.041003     12830700   \n",
      "\n",
      "           RSI_      SMA50_      SMA20_    UpperBB_   MiddleBB_    LowerBB_  \\\n",
      "38     29.64681         NaN  207.286680  221.722544  207.286680  192.850815   \n",
      "45    26.490422         NaN  199.494942  226.290107  199.494942  172.699778   \n",
      "48    25.747266         NaN  193.113819  227.504611  193.113819  158.723027   \n",
      "50    29.920329  203.450235  187.583444  225.912079  187.583444  149.254809   \n",
      "96    75.401005  179.878279  204.085411  226.837344  204.085411  181.333478   \n",
      "97    75.991736  181.096625  206.389609  230.027653  206.389609  182.751564   \n",
      "98    77.438115  182.699303  208.623077  233.789643  208.623077  183.456510   \n",
      "151   71.275814  236.644033  242.176398  262.882082  242.176398  221.470715   \n",
      "164   81.414311  246.105692  261.630091  288.360615  261.630091  234.899568   \n",
      "165   70.616955  247.255101  264.554919  291.181689  264.554919  237.928148   \n",
      "261   29.650156  272.821637  266.257417  284.051321  266.257417  248.463512   \n",
      "333   72.738338  285.074434  305.719669  319.625695  305.719669  291.813642   \n",
      "374   70.355674  321.189075  333.813351  346.865830  333.813351  320.760873   \n",
      "393   70.276518  336.672532  349.686720  366.167862  349.686720  333.205578   \n",
      "434   29.714197  361.912913  370.415034  390.087054  370.415034  350.743015   \n",
      "527    24.75511  323.174099  312.240267  355.257183  312.240267  269.223351   \n",
      "528   24.644927  321.178521  307.489913  360.829698  307.489913  254.150128   \n",
      "529   22.669496  318.864361  302.166248  365.553371  302.166248  238.779126   \n",
      "530   21.934208  316.614156  296.792276  368.575278  296.792276  225.009274   \n",
      "548   25.703418  274.587895  210.474004  232.038856  210.474004  188.909153   \n",
      "584   27.810248  207.338582  209.634711  244.757181  209.634711  174.512242   \n",
      "711   23.846345  145.103313  130.977172  148.219326  130.977172  113.735017   \n",
      "712   25.200923  143.599856  129.160114  151.236442  129.160114  107.083785   \n",
      "713   23.081451  142.109549  126.896262  153.640867  126.896262  100.151656   \n",
      "714   25.364591  140.757713  124.650839  154.106436  124.650839   95.195243   \n",
      "763   71.059306  114.616175  122.426839  135.487961  122.426839  109.365717   \n",
      "773   77.048924  122.757477  133.966262  150.388614  133.966262  117.543911   \n",
      "777   86.065368  126.425665  141.199134  167.255197  141.199134  115.143071   \n",
      "778   83.302265  127.953230  144.167296  175.765073  144.167296  112.569519   \n",
      "779   82.702325  129.439950  146.958633  182.505937  146.958633  111.411328   \n",
      "780   84.156056  131.021509  150.054306  189.381390  150.054306  110.727222   \n",
      "804   70.923267  160.230529  177.111940  189.877052  177.111940  164.346828   \n",
      "805   73.087865  161.772838  178.021964  193.454221  178.021964  162.589706   \n",
      "806   76.685789  163.370535  179.405180  198.551089  179.405180  160.259270   \n",
      "835   74.418078  197.242943  214.495641  227.314578  214.495641  201.676704   \n",
      "836   75.170131  198.501335  216.113461  232.449479  216.113461  199.777442   \n",
      "837   76.385038  199.910752  217.669516  237.389860  217.669516  197.949172   \n",
      "855   74.069405  221.768658  239.336253  251.567876  239.336253  227.104629   \n",
      "856    79.32283  222.906512  240.418120  255.883077  240.418120  224.953163   \n",
      "857   79.551867  224.239619  241.381440  259.377126  241.381440  223.385754   \n",
      "858   80.611874  225.572726  242.650591  263.028895  242.650591  222.272288   \n",
      "859   83.846119  226.976364  244.422820  268.118808  244.422820  220.726833   \n",
      "886   75.122538  263.730963  285.461552  302.187180  285.461552  268.735925   \n",
      "887   76.816797  265.130218  287.558044  306.512982  287.558044  268.603106   \n",
      "1012  70.842754  333.873423  348.175990  367.185654  348.175990  329.166327   \n",
      "1014  72.317969  336.667351  351.921683  372.420105  351.921683  331.423260   \n",
      "1018  72.575008  341.494711  358.513504  379.791666  358.513504  337.235342   \n",
      "1028  86.475919  355.653827  382.741457  432.854001  382.741457  332.628912   \n",
      "1029  77.121337  358.093109  388.094009  445.650942  388.094009  330.537077   \n",
      "1031  77.151618  362.966292  398.465390  466.293903  398.465390  330.636877   \n",
      "1047  73.576265  410.328380  473.977950  497.083389  473.977950  450.872510   \n",
      "1051  71.975497  422.117118  480.956223  507.332718  480.956223  454.579727   \n",
      "1087  29.645262  492.040308  493.592667  546.581081  493.592667  440.604252   \n",
      "1088  29.099793  491.189686  490.241902  550.212387  490.241902  430.271417   \n",
      "1133  71.238529  480.983146  505.308202  525.525514  505.308202  485.090889   \n",
      "1186  70.989207  505.309491  521.004152  547.926279  521.004152  494.082024   \n",
      "1187  71.680802  506.291471  522.499290  554.345687  522.499290  490.652894   \n",
      "1188   72.63623  507.610716  524.343465  560.951173  524.343465  487.735756   \n",
      "\n",
      "      Signal  \n",
      "38         1  \n",
      "45         1  \n",
      "48         1  \n",
      "50         1  \n",
      "96        -1  \n",
      "97        -1  \n",
      "98        -1  \n",
      "151       -1  \n",
      "164       -1  \n",
      "165       -1  \n",
      "261        1  \n",
      "333       -1  \n",
      "374       -1  \n",
      "393       -1  \n",
      "434        1  \n",
      "527        1  \n",
      "528        1  \n",
      "529        1  \n",
      "530        1  \n",
      "548        1  \n",
      "584        1  \n",
      "711        1  \n",
      "712        1  \n",
      "713        1  \n",
      "714        1  \n",
      "763       -1  \n",
      "773       -1  \n",
      "777       -1  \n",
      "778       -1  \n",
      "779       -1  \n",
      "780       -1  \n",
      "804       -1  \n",
      "805       -1  \n",
      "806       -1  \n",
      "835       -1  \n",
      "836       -1  \n",
      "837       -1  \n",
      "855       -1  \n",
      "856       -1  \n",
      "857       -1  \n",
      "858       -1  \n",
      "859       -1  \n",
      "886       -1  \n",
      "887       -1  \n",
      "1012      -1  \n",
      "1014      -1  \n",
      "1018      -1  \n",
      "1028      -1  \n",
      "1029      -1  \n",
      "1031      -1  \n",
      "1047      -1  \n",
      "1051      -1  \n",
      "1087       1  \n",
      "1088       1  \n",
      "1133      -1  \n",
      "1186      -1  \n",
      "1187      -1  \n",
      "1188      -1  \n"
     ]
    }
   ],
   "source": [
    "# Flatten the MultiIndex\n",
    "stock_data.columns = ['_'.join(col).strip() if isinstance(col, tuple) else col for col in stock_data.columns]\n",
    "\n",
    "# Verify the flattened column names\n",
    "print(stock_data.columns)\n",
    "\n",
    "# Initialize Signal column\n",
    "stock_data['Signal'] = 0  # Default to no action\n",
    "\n",
    "# Generate Buy and Sell Signals\n",
    "stock_data.loc[\n",
    "    (stock_data['RSI_'] < 30) & (stock_data[f'Close_{ticker}'] < stock_data['LowerBB_']),\n",
    "    'Signal'\n",
    "] = 1  # Buy signal\n",
    "\n",
    "stock_data.loc[\n",
    "    (stock_data['RSI_'] > 70) & (stock_data[f'Close_{ticker}'] > stock_data['UpperBB_']),\n",
    "    'Signal'\n",
    "] = -1  # Sell signal\n",
    "\n",
    "# Verify the result\n",
    "print(stock_data[['Date_', f'Close_{ticker}', 'RSI_', 'Signal']])\n",
    "\n",
    "# Filter rows where Signal is 1 or -1\n",
    "filtered_data = stock_data[(stock_data['Signal'] == 1) | (stock_data['Signal'] == -1)]\n",
    "\n",
    "# Print the filtered rows\n",
    "print(filtered_data)"
   ]
  },
  {
   "cell_type": "markdown",
   "metadata": {},
   "source": [
    "Plot the signals"
   ]
  },
  {
   "cell_type": "code",
   "execution_count": 221,
   "metadata": {},
   "outputs": [
    {
     "data": {
      "image/png": "[encoded data removed]",
      "text/plain": [
       "<Figure size 1400x700 with 1 Axes>"
      ]
     },
     "metadata": {},
     "output_type": "display_data"
    }
   ],
   "source": [
    "import matplotlib.pyplot as plt\n",
    "\n",
    "# Filter rows with buy and sell signals\n",
    "buy_signals = stock_data[stock_data['Signal'] == 1]\n",
    "sell_signals = stock_data[stock_data['Signal'] == -1]\n",
    "\n",
    "# Plot the stock's Close price\n",
    "plt.figure(figsize=(14, 7))\n",
    "plt.plot(stock_data['Date_'], stock_data[f'Close_{ticker}'], label='Close Price', color='blue', alpha=0.6)\n",
    "\n",
    "# Add buy signals to the plot\n",
    "plt.scatter(buy_signals['Date_'], buy_signals[f'Close_{ticker}'], label='Buy Signal', marker='^', color='green', s=100)\n",
    "\n",
    "# Add sell signals to the plot\n",
    "plt.scatter(sell_signals['Date_'], sell_signals[f'Close_{ticker}'], label='Sell Signal', marker='v', color='red', s=100)\n",
    "\n",
    "# Plot enhancements\n",
    "plt.title('Stock Close Price with Buy and Sell Signals')\n",
    "plt.xlabel('Date_')\n",
    "plt.ylabel(f'Close Price {ticker}')\n",
    "plt.legend()\n",
    "plt.grid(alpha=0.3)\n",
    "plt.show()"
   ]
  }
 ],
 "metadata": {
  "kernelspec": {
   "display_name": "Python 3",
   "language": "python",
   "name": "python3"
  },
  "language_info": {
   "codemirror_mode": {
    "name": "ipython",
    "version": 3
   },
   "file_extension": ".py",
   "mimetype": "text/x-python",
   "name": "python",
   "nbconvert_exporter": "python",
   "pygments_lexer": "ipython3",
   "version": "3.12.3"
  }
 },
 "nbformat": 4,
 "nbformat_minor": 2
}
