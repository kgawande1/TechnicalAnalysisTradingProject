{
 "cells": [
  {
   "cell_type": "markdown",
   "metadata": {},
   "source": [
    "stuff\n"
   ]
  },
  {
   "cell_type": "code",
   "execution_count": 3,
   "metadata": {},
   "outputs": [
    {
     "name": "stdout",
     "output_type": "stream",
     "text": [
      "               Open    High     Low   Close      Volume\n",
      "date                                                   \n",
      "2025-01-24  224.780  225.63  221.41  222.78  54697907.0\n",
      "2025-01-23  224.740  227.03  222.30  223.66  60234760.0\n",
      "2025-01-22  219.790  224.12  219.79  223.83  64126500.0\n",
      "2025-01-21  224.000  224.42  219.38  222.64  98070429.0\n",
      "2025-01-17  232.115  232.29  228.48  229.98  68488301.0\n",
      "            +DI  -DI  ADX  RSI\n",
      "date                          \n",
      "2025-01-24  0.0  0.0  0.0  NaN\n",
      "2025-01-23  0.0  0.0  0.0  NaN\n",
      "2025-01-22  0.0  0.0  0.0  NaN\n",
      "2025-01-21  0.0  0.0  0.0  NaN\n",
      "2025-01-17  0.0  0.0  0.0  NaN\n"
     ]
    }
   ],
   "source": [
    "from alpha_vantage.timeseries import TimeSeries\n",
    "import pandas as pd\n",
    "\n",
    "# Initialize the API client\n",
    "api_key = \"QJKCEEDKW5H07CB7\"  # Replace with your API key\n",
    "ts = TimeSeries(key=api_key, output_format='pandas')\n",
    "\n",
    "# Fetch daily stock data for AAPL\n",
    "data, meta_data = ts.get_monthly(symbol='AAPL', outputsize='compact')\n",
    "\n",
    "# Rename columns for easier usage\n",
    "data = data.rename(columns={\n",
    "    '1. open': 'Open',\n",
    "    '2. high': 'High',\n",
    "    '3. low': 'Low',\n",
    "    '4. close': 'Close',\n",
    "    '5. volume': 'Volume'\n",
    "})\n",
    "\n",
    "# Print the first few rows\n",
    "print(data.head())\n",
    "\n",
    "\n",
    "from ta.trend import ADXIndicator\n",
    "from ta.momentum import RSIIndicator\n",
    "from ta.volatility import BollingerBands\n",
    "\n",
    "# Ensure columns are Series\n",
    "data['High'] = data['High']\n",
    "data['Low'] = data['Low']\n",
    "data['Close'] = data['Close']\n",
    "\n",
    "# Calculate ADX\n",
    "adx = ADXIndicator(high=data['High'], low=data['Low'], close=data['Close'])\n",
    "data['+DI'] = adx.adx_pos()\n",
    "data['-DI'] = adx.adx_neg()\n",
    "data['ADX'] = adx.adx()\n",
    "\n",
    "# Calculate RSI\n",
    "rsi = RSIIndicator(close=data['Close'], window=14)\n",
    "data['RSI'] = rsi.rsi()\n",
    "\n",
    "# Print the indicators\n",
    "print(data[['+DI', '-DI', 'ADX', 'RSI']].head())"
   ]
  }
 ],
 "metadata": {
  "kernelspec": {
   "display_name": "Python 3",
   "language": "python",
   "name": "python3"
  },
  "language_info": {
   "codemirror_mode": {
    "name": "ipython",
    "version": 3
   },
   "file_extension": ".py",
   "mimetype": "text/x-python",
   "name": "python",
   "nbconvert_exporter": "python",
   "pygments_lexer": "ipython3",
   "version": "3.12.3"
  }
 },
 "nbformat": 4,
 "nbformat_minor": 2
}
